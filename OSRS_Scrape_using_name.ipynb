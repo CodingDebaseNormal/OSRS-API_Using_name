{
 "cells": [
  {
   "cell_type": "markdown",
   "id": "f20bcb8e",
   "metadata": {},
   "source": [
    "# Use Official OSRS GE Api with item names, rather than item id"
   ]
  },
  {
   "cell_type": "markdown",
   "id": "86e134c3",
   "metadata": {},
   "source": [
    "Import modules"
   ]
  },
  {
   "cell_type": "code",
   "execution_count": 3,
   "id": "6ae619fe",
   "metadata": {},
   "outputs": [],
   "source": [
    "from bs4 import BeautifulSoup as soup\n",
    "import requests\n",
    "import json"
   ]
  },
  {
   "cell_type": "markdown",
   "id": "fb9d02ac",
   "metadata": {},
   "source": [
    "Format input to make it suitable for scraping"
   ]
  },
  {
   "cell_type": "code",
   "execution_count": 1,
   "id": "572f73ed",
   "metadata": {},
   "outputs": [
    {
     "name": "stdout",
     "output_type": "stream",
     "text": [
      "Enter your item's name: ranger's boots\n",
      "rangers_boots\n"
     ]
    }
   ],
   "source": [
    "item = input(\"Enter your item's name: \")\n",
    "#Remove spaces and apostrophies to fit the website url\n",
    "item = item.replace(\" \",\"_\").replace(\"'\",\"\")\n",
    "\n",
    "print(item)"
   ]
  },
  {
   "cell_type": "markdown",
   "id": "c4135a4b",
   "metadata": {},
   "source": [
    "Scrape item's id from OSRS's wiki"
   ]
  },
  {
   "cell_type": "code",
   "execution_count": 4,
   "id": "b5a69319",
   "metadata": {},
   "outputs": [
    {
     "name": "stdout",
     "output_type": "stream",
     "text": [
      "https://oldschool.runescape.wiki/w/rangers_boots\n",
      "<div class=\"realtimePrices\" data-itemid=\"2577\" style=\"display: none;\"></div>\n",
      "2577\n"
     ]
    }
   ],
   "source": [
    "#Get the item's URL on the wiki\n",
    "url = 'https://oldschool.runescape.wiki/w/' + item\n",
    "print(url)\n",
    "\n",
    "#Let's find where the item id is hidden in the HTML\n",
    "#It's in the class 'realtimePrices'\n",
    "\n",
    "#Parse the HTML\n",
    "html = requests.get(url)\n",
    "bs = soup(html.text, 'html.parser')\n",
    "\n",
    "#Let's get into the class\n",
    "real = bs.find(class_ = 'realtimePrices')\n",
    "print(real)\n",
    "#Let's get the attribute data-itemid\n",
    "id = real.get('data-itemid')\n",
    "print(id)"
   ]
  },
  {
   "cell_type": "markdown",
   "id": "998fb7f6",
   "metadata": {},
   "source": [
    "Use item id to scrape off the GE Api"
   ]
  },
  {
   "cell_type": "code",
   "execution_count": 7,
   "id": "44c97d3c",
   "metadata": {},
   "outputs": [
    {
     "name": "stdout",
     "output_type": "stream",
     "text": [
      "https://secure.runescape.com/m=itemdb_oldschool/api/catalogue/detail.json?item=2577\n",
      "Ranger boots\n",
      "Lightweight boots ideal for rangers.\n",
      "28.7m\n",
      "+10.0%\n"
     ]
    }
   ],
   "source": [
    "#Let's now put that id into the GE API's url\n",
    "url2 = 'https://secure.runescape.com/m=itemdb_oldschool/api/catalogue/detail.json?item=' + id\n",
    "print(url2)\n",
    "\n",
    "#Let's parse the Json\n",
    "req2 = requests.get(url2)\n",
    "data = req2.json()\n",
    "\n",
    "\n",
    "#Let's access the 'item'\n",
    "data_item = data['item']\n",
    "\n",
    "#Let's take the name, description, current price and 30 day change\n",
    "name = data_item['name']\n",
    "descr = data_item['description']\n",
    "current_price = data_item['current']['price']\n",
    "day30_change = data_item['day30']['change']\n",
    "\n",
    "print(name)\n",
    "print(descr)\n",
    "print(current_price)\n",
    "print(day30_change)"
   ]
  },
  {
   "cell_type": "code",
   "execution_count": null,
   "id": "d68467e9",
   "metadata": {},
   "outputs": [],
   "source": []
  }
 ],
 "metadata": {
  "kernelspec": {
   "display_name": "Python 3",
   "language": "python",
   "name": "python3"
  },
  "language_info": {
   "codemirror_mode": {
    "name": "ipython",
    "version": 3
   },
   "file_extension": ".py",
   "mimetype": "text/x-python",
   "name": "python",
   "nbconvert_exporter": "python",
   "pygments_lexer": "ipython3",
   "version": "3.9.0"
  }
 },
 "nbformat": 4,
 "nbformat_minor": 5
}
